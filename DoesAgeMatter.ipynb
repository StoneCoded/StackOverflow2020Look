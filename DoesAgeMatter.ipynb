{
 "cells": [
  {
   "cell_type": "code",
   "execution_count": 14,
   "metadata": {},
   "outputs": [],
   "source": [
    "import pandas as pd\n",
    "import numpy as np\n",
    "import matplotlib.pyplot as plt\n",
    "%matplotlib inline\n",
    "\n",
    "df = pd.read_csv('survey_results_public.csv')"
   ]
  },
  {
   "cell_type": "code",
   "execution_count": 15,
   "metadata": {},
   "outputs": [],
   "source": [
    "age_df = df[['Respondent', 'Age', 'Age1stCode', 'YearsCode', 'YearsCodePro']].copy()\n",
    "#creates dataframe with relevent columns"
   ]
  },
  {
   "cell_type": "code",
   "execution_count": 16,
   "metadata": {},
   "outputs": [],
   "source": [
    "age_df = age_df[age_df['YearsCode'] != 'More than 50 years']\n",
    "age_df = age_df[age_df['YearsCodePro'] != 'More than 50 years']\n",
    "age_df = age_df[age_df['Age1stCode'] != 'Older than 85']\n",
    "#Dropping out the over 50 years experience as we are looking at how to enter the workplace and with no means to\n",
    "#calculate age accuartely its better the remove rather than guess\n",
    "\n",
    "age_df['YearsCodePro'] = age_df['YearsCodePro'].replace('Less than 1 year', '0.5')\n",
    "age_df['YearsCode']    = age_df['YearsCode'].replace('Less than 1 year', '0.5')\n",
    "age_df['Age1stCode']   = age_df['Age1stCode'].replace('Younger than 5 years', '4')\n",
    "\n",
    "#Replace less than 1/5 years with a realistic value. Its reasonable to assume you probably \n",
    "#weren't coding when you were 3 and won't drastically change a large number in a meaningful way\n",
    "\n",
    "for age in range(len(age_df['Age'])):\n",
    "    if age_df.iloc[age,1] >= 118:\n",
    "        age_df.iloc[age,1] *= 0.1\n",
    "#if age is accidentally put in as older than the oldest living person then an assumtion of a \n",
    "#missing decimel point is made"
   ]
  },
  {
   "cell_type": "code",
   "execution_count": 17,
   "metadata": {},
   "outputs": [],
   "source": [
    "age_df[['Age1stCode','YearsCodePro','YearsCode']] = age_df[['Age1stCode','YearsCodePro','YearsCode']].apply(pd.to_numeric)\n",
    "#converts all object values to float\n",
    "for age in range(len(age_df['Age'])):\n",
    "    if pd.isna(age_df.iloc[age,1]):\n",
    "        if age_df.iloc[age, 2] >=85:\n",
    "            age_df.iloc[age,1] = age_df.iloc[age,2]\n",
    "        else:\n",
    "            age_df.iloc[age,1] = age_df.iloc[age, 3] + age_df.iloc[age, 2] \n",
    "#fills in some of the nan values with an estimate age taken as Age first coded + Years coded\n",
    "age_df['Age1stJob'] = age_df['Age'] - age_df['YearsCodePro']\n",
    "#By taking away the number of years coding professionally from age we can estimate the age at which \n",
    "#they entered employment within the industry"
   ]
  },
  {
   "cell_type": "code",
   "execution_count": 18,
   "metadata": {},
   "outputs": [
    {
     "data": {
      "text/html": [
       "<div>\n",
       "<style scoped>\n",
       "    .dataframe tbody tr th:only-of-type {\n",
       "        vertical-align: middle;\n",
       "    }\n",
       "\n",
       "    .dataframe tbody tr th {\n",
       "        vertical-align: top;\n",
       "    }\n",
       "\n",
       "    .dataframe thead th {\n",
       "        text-align: right;\n",
       "    }\n",
       "</style>\n",
       "<table border=\"1\" class=\"dataframe\">\n",
       "  <thead>\n",
       "    <tr style=\"text-align: right;\">\n",
       "      <th></th>\n",
       "      <th>Respondent</th>\n",
       "      <th>Age</th>\n",
       "      <th>Age1stCode</th>\n",
       "      <th>YearsCode</th>\n",
       "      <th>YearsCodePro</th>\n",
       "      <th>Age1stJob</th>\n",
       "    </tr>\n",
       "  </thead>\n",
       "  <tbody>\n",
       "    <tr>\n",
       "      <th>count</th>\n",
       "      <td>64313.000000</td>\n",
       "      <td>57687.000000</td>\n",
       "      <td>57752.000000</td>\n",
       "      <td>57536.000000</td>\n",
       "      <td>46261.000000</td>\n",
       "      <td>46176.000000</td>\n",
       "    </tr>\n",
       "    <tr>\n",
       "      <th>mean</th>\n",
       "      <td>32558.941365</td>\n",
       "      <td>30.011925</td>\n",
       "      <td>15.389649</td>\n",
       "      <td>12.621124</td>\n",
       "      <td>8.448899</td>\n",
       "      <td>23.086614</td>\n",
       "    </tr>\n",
       "    <tr>\n",
       "      <th>std</th>\n",
       "      <td>18964.675477</td>\n",
       "      <td>9.521185</td>\n",
       "      <td>5.166469</td>\n",
       "      <td>9.531395</td>\n",
       "      <td>7.721754</td>\n",
       "      <td>5.068506</td>\n",
       "    </tr>\n",
       "    <tr>\n",
       "      <th>min</th>\n",
       "      <td>1.000000</td>\n",
       "      <td>1.000000</td>\n",
       "      <td>4.000000</td>\n",
       "      <td>0.500000</td>\n",
       "      <td>0.500000</td>\n",
       "      <td>-15.000000</td>\n",
       "    </tr>\n",
       "    <tr>\n",
       "      <th>25%</th>\n",
       "      <td>16128.000000</td>\n",
       "      <td>24.000000</td>\n",
       "      <td>12.000000</td>\n",
       "      <td>6.000000</td>\n",
       "      <td>3.000000</td>\n",
       "      <td>21.000000</td>\n",
       "    </tr>\n",
       "    <tr>\n",
       "      <th>50%</th>\n",
       "      <td>32232.000000</td>\n",
       "      <td>28.000000</td>\n",
       "      <td>15.000000</td>\n",
       "      <td>10.000000</td>\n",
       "      <td>6.000000</td>\n",
       "      <td>22.500000</td>\n",
       "    </tr>\n",
       "    <tr>\n",
       "      <th>75%</th>\n",
       "      <td>49140.000000</td>\n",
       "      <td>35.000000</td>\n",
       "      <td>18.000000</td>\n",
       "      <td>17.000000</td>\n",
       "      <td>12.000000</td>\n",
       "      <td>25.000000</td>\n",
       "    </tr>\n",
       "    <tr>\n",
       "      <th>max</th>\n",
       "      <td>65639.000000</td>\n",
       "      <td>99.000000</td>\n",
       "      <td>85.000000</td>\n",
       "      <td>50.000000</td>\n",
       "      <td>50.000000</td>\n",
       "      <td>96.000000</td>\n",
       "    </tr>\n",
       "  </tbody>\n",
       "</table>\n",
       "</div>"
      ],
      "text/plain": [
       "         Respondent           Age    Age1stCode     YearsCode  YearsCodePro  \\\n",
       "count  64313.000000  57687.000000  57752.000000  57536.000000  46261.000000   \n",
       "mean   32558.941365     30.011925     15.389649     12.621124      8.448899   \n",
       "std    18964.675477      9.521185      5.166469      9.531395      7.721754   \n",
       "min        1.000000      1.000000      4.000000      0.500000      0.500000   \n",
       "25%    16128.000000     24.000000     12.000000      6.000000      3.000000   \n",
       "50%    32232.000000     28.000000     15.000000     10.000000      6.000000   \n",
       "75%    49140.000000     35.000000     18.000000     17.000000     12.000000   \n",
       "max    65639.000000     99.000000     85.000000     50.000000     50.000000   \n",
       "\n",
       "          Age1stJob  \n",
       "count  46176.000000  \n",
       "mean      23.086614  \n",
       "std        5.068506  \n",
       "min      -15.000000  \n",
       "25%       21.000000  \n",
       "50%       22.500000  \n",
       "75%       25.000000  \n",
       "max       96.000000  "
      ]
     },
     "execution_count": 18,
     "metadata": {},
     "output_type": "execute_result"
    }
   ],
   "source": [
    "age_df.describe()\n",
    "#gives a rough description of data so far"
   ]
  },
  {
   "cell_type": "code",
   "execution_count": 20,
   "metadata": {},
   "outputs": [
    {
     "data": {
      "image/png": "[encoded data removed]",
      "text/plain": [
       "<Figure size 720x360 with 2 Axes>"
      ]
     },
     "metadata": {
      "needs_background": "light"
     },
     "output_type": "display_data"
    }
   ],
   "source": [
    "fig, axes = plt.subplots(1, 2, sharey = True, figsize = (10, 5))\n",
    "age_df[['Age1stJob']].plot(kind = 'hist', bins = 60, ax = axes[0], xlim = (0, 60), legend = False, title = 'Age at First Coding Job')\n",
    "age_df[['Age']].plot(kind = 'hist', bins = 60, ax = axes[1], xlim = (0, 60), legend = False, title = 'Age Spread')\n",
    "fig.text(0.3, 0.04, 'Age', ha='center')\n",
    "fig.text(0.73, 0.04, 'Age', ha='center')\n",
    "fig.savefig('AgeGraph.jpg')\n",
    "#Plots estimate age of people starting work next to general current age spread"
   ]
  },
  {
   "cell_type": "code",
   "execution_count": null,
   "metadata": {},
   "outputs": [],
   "source": []
  }
 ],
 "metadata": {
  "kernelspec": {
   "display_name": "Python 3",
   "language": "python",
   "name": "python3"
  },
  "language_info": {
   "codemirror_mode": {
    "name": "ipython",
    "version": 3
   },
   "file_extension": ".py",
   "mimetype": "text/x-python",
   "name": "python",
   "nbconvert_exporter": "python",
   "pygments_lexer": "ipython3",
   "version": "3.7.6"
  }
 },
 "nbformat": 4,
 "nbformat_minor": 4
}
